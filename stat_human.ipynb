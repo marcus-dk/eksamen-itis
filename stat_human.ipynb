{
 "cells": [
  {
   "cell_type": "code",
   "execution_count": 1,
   "metadata": {},
   "outputs": [
    {
     "name": "stdout",
     "output_type": "stream",
     "text": [
      "Total runs: 102 | Succeses: 57 | Failures: 45 | Succesrate (%): 55.9 | Confidence-interval: [46.0 , 66.0] |\n"
     ]
    }
   ],
   "source": [
    "import numpy as np \n",
    "\n",
    "with open('data_human.csv') as data_human:\n",
    "    results_human = data_human.readlines()\n",
    "# Antal succes \n",
    "succeses_human = sum(1 for i in range(len(results_human)) if results_human[i][0]=='1')\n",
    "\n",
    "#Succesrate\n",
    "succes_rate_human = succeses_human / len(results_human)\n",
    "\n",
    "#Failures\n",
    "failures_human = len(results_human) - succeses_human\n",
    "\n",
    "#Konfidens\n",
    "confi_low = succes_rate_human - 1.96*np.sqrt((succes_rate_human*(1-succes_rate_human))/len(results_human))\n",
    "confi_high = succes_rate_human + 1.96*np.sqrt((succes_rate_human*(1-succes_rate_human))/len(results_human))\n",
    "\n",
    "print(f'Total runs: {len(results_human)} | Succeses: {succeses_human} | Failures: {failures_human} | Succesrate (%): {round(succes_rate_human*100,1)} | Confidence-interval: [{round(confi_low,2)*100} , {round(confi_high,2)*100}] |')\n",
    "\n",
    "\n",
    "\n"
   ]
  }
 ],
 "metadata": {
  "kernelspec": {
   "display_name": "base",
   "language": "python",
   "name": "python3"
  },
  "language_info": {
   "codemirror_mode": {
    "name": "ipython",
    "version": 3
   },
   "file_extension": ".py",
   "mimetype": "text/x-python",
   "name": "python",
   "nbconvert_exporter": "python",
   "pygments_lexer": "ipython3",
   "version": "3.11.9"
  }
 },
 "nbformat": 4,
 "nbformat_minor": 2
}
