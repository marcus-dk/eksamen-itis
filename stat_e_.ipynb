{
 "cells": [
  {
   "cell_type": "code",
   "execution_count": 3,
   "metadata": {},
   "outputs": [
    {
     "name": "stdout",
     "output_type": "stream",
     "text": [
      "Total runs: 99 | Succeses: 99 | Failures: 0 | Succesrate (%): 100.0 | Confidence-interval: [95.0 , 101.0] |\n",
      "['Errors 0: 0.25', 'Errors 1: 0.34', 'Errors 2: 0.26', 'Errors 3: 0.12', 'Errors 4: 0.02', 'Errors 5: 0.0']\n",
      "1.3131313131313131\n"
     ]
    }
   ],
   "source": [
    "import numpy as np \n",
    "\n",
    "#Variablerne hedder alle sammen noget med mc, men det er alt sammen for entropy og ikke for human.\n",
    "\n",
    "import numpy as np\n",
    "\n",
    "with open('data_e.csv') as data_mc:\n",
    "    results_mc = data_mc.readlines()\n",
    "# Antal succes \n",
    "succeses_mc = sum(1 for i in range(len(results_mc)) if results_mc[i][0]=='1')\n",
    "\n",
    "#Succesrate\n",
    "succes_rate_mc = succeses_mc / len(results_mc)\n",
    "\n",
    "#Failures\n",
    "failures_mc = len(results_mc) - succeses_mc\n",
    "\n",
    "#Konfidens (agresti-coull)\n",
    "p_a = (succes_rate_mc*len(results_mc)+2)/(len(results_mc)+4)\n",
    "confi_low_mc = p_a - 1.96*np.sqrt((p_a*(1-p_a))/(len(results_mc)+4))\n",
    "confi_high_mc = p_a + 1.96*np.sqrt((p_a*(1-p_a))/(len(results_mc)+4))\n",
    "\n",
    "print(f'Total runs: {len(results_mc)} | Succeses: {succeses_mc} | Failures: {failures_mc} | Succesrate (%): {round(succes_rate_mc*100,1)} | Confidence-interval: [{round(confi_low_mc,2)*100} , {round(confi_high_mc,2)*100}] |')\n",
    "\n",
    "\n",
    "error_rates = []\n",
    "for k in range(0,6):\n",
    "    succeses_mc_error = sum(1 for i in range(len(results_mc)) if (results_mc[i][0]=='1' and results_mc[i][-2]==str(k)))\n",
    "    succeses_mc_error_rate = succeses_mc_error / len(results_mc)\n",
    "    error_rates.append(f'Errors {str(k)}: {round(succeses_mc_error_rate,2)}')\n",
    "print(error_rates)\n",
    "#Så f.eks. succesrate hvis en fejl er tilladt: 0.27 + 0.3 = 0.57\n",
    "\n",
    "mc_average_number_of_errors = sum(int(results_mc[i][-2]) for i in range(len(results_mc))) / len(results_mc)\n",
    "print(mc_average_number_of_errors)"
   ]
  }
 ],
 "metadata": {
  "kernelspec": {
   "display_name": "base",
   "language": "python",
   "name": "python3"
  },
  "language_info": {
   "codemirror_mode": {
    "name": "ipython",
    "version": 3
   },
   "file_extension": ".py",
   "mimetype": "text/x-python",
   "name": "python",
   "nbconvert_exporter": "python",
   "pygments_lexer": "ipython3",
   "version": "3.11.9"
  }
 },
 "nbformat": 4,
 "nbformat_minor": 2
}
