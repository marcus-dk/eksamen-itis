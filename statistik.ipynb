{
 "cells": [
  {
   "cell_type": "code",
   "execution_count": 1,
   "metadata": {},
   "outputs": [
    {
     "name": "stdout",
     "output_type": "stream",
     "text": [
      "Total runs: 102 | Succeses: 57 | Succesrate (%): 55.9 |\n"
     ]
    }
   ],
   "source": [
    "with open('data_human.csv') as data_human:\n",
    "    results_human = data_human.readlines()\n",
    "# Antal succes \n",
    "succeses_human = sum(1 for i in range(len(results_human)) if results_human[i][0]=='1')\n",
    "\n",
    "#Succesrate\n",
    "succes_rate_human = succeses_human / len(results_human)\n",
    "\n",
    "print(f'Total runs: {len(results_human)} | Succeses: {succeses_human} | Succesrate (%): {round(succes_rate_human*100,1)} |')\n",
    "\n",
    "with open('data_e.csv') as data_human:\n",
    "    results_human = data_human.readlines()\n",
    "# Antal succes \n",
    "succeses_human = sum(1 for i in range(len(results_human)) if results_human[i][0]=='1')\n",
    "\n",
    "#Succesrate\n",
    "succes_rate_human = succeses_human / len(results_human)\n",
    "\n",
    "print(f'Total runs: {len(results_human)} | Succeses: {succeses_human} | Succesrate (%): {round(succes_rate_human*100,1)} |')"
   ]
  }
 ],
 "metadata": {
  "kernelspec": {
   "display_name": "base",
   "language": "python",
   "name": "python3"
  },
  "language_info": {
   "codemirror_mode": {
    "name": "ipython",
    "version": 3
   },
   "file_extension": ".py",
   "mimetype": "text/x-python",
   "name": "python",
   "nbconvert_exporter": "python",
   "pygments_lexer": "ipython3",
   "version": "3.11.9"
  }
 },
 "nbformat": 4,
 "nbformat_minor": 2
}
