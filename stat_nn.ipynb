{
 "cells": [
  {
   "cell_type": "code",
   "execution_count": 9,
   "metadata": {},
   "outputs": [
    {
     "name": "stdout",
     "output_type": "stream",
     "text": [
      "Total runs: 500 | Succeses: 500 | Failures: 0 | Succesrate (%): 100.0 | Confidence-interval: [99.0 , 100.0] |\n",
      "Errors 0: 26.2\n",
      "Errors 1: 37.6\n",
      "Errors 2: 20.6\n",
      "Errors 3: 12.2\n",
      "Errors 4: 3.4\n",
      "Errors 5: 0.0\n",
      "Average number of errors: 1.29 | Confidence-interval: [1.195 , 1.385] |\n"
     ]
    },
    {
     "data": {
      "text/plain": [
       "96.03999999999998"
      ]
     },
     "execution_count": 9,
     "metadata": {},
     "output_type": "execute_result"
    }
   ],
   "source": [
    "import numpy as np \n",
    "import scipy.stats as stats\n",
    "\n",
    "#Variablerne hedder alle sammen noget med mc, men det beregner kun for nn og ikke for mc.\n",
    "\n",
    "\n",
    "with open('data_nn.csv') as data_mc:\n",
    "    results_mc = data_mc.readlines()\n",
    "# Antal succes \n",
    "succeses_mc = sum(1 for i in range(len(results_mc)) if results_mc[i][0]=='1')\n",
    "\n",
    "#Succesrate\n",
    "succes_rate_mc = succeses_mc / len(results_mc)\n",
    "\n",
    "#Failures\n",
    "failures_mc = len(results_mc) - succeses_mc\n",
    "\n",
    "#Konfidens (agresti-coull)\n",
    "p_a = (succes_rate_mc*len(results_mc)+2)/(len(results_mc)+4)\n",
    "confi_low_mc = p_a - 1.96*np.sqrt((p_a*(1-p_a))/(len(results_mc)+4))\n",
    "confi_high_mc = p_a + 1.96*np.sqrt((p_a*(1-p_a))/(len(results_mc)+4))\n",
    "\n",
    "print(f'Total runs: {len(results_mc)} | Succeses: {succeses_mc} | Failures: {failures_mc} | Succesrate (%): {round(succes_rate_mc*100,1)} | Confidence-interval: [{round(confi_low_mc,2)*100} , {round(confi_high_mc,2)*100}] |')\n",
    "\n",
    "\n",
    "error_rates = []\n",
    "for k in range(0,6):\n",
    "    succeses_mc_error = sum(1 for i in range(len(results_mc)) if (results_mc[i][0]=='1' and results_mc[i][-2]==str(k)))\n",
    "    succeses_mc_error_rate = succeses_mc_error / len(results_mc)\n",
    "    error_rates.append(f'Errors {str(k)}: {round(succeses_mc_error_rate*100,2)}')\n",
    "    print(error_rates[k])\n",
    "#Så f.eks. succesrate hvis en fejl er tilladt: 0.27 + 0.3 = 0.57\n",
    "\n",
    "errors = np.empty(len(results_mc))\n",
    "for i in range(len(results_mc)):\n",
    "    errors[i] = int(results_mc[i][-2])\n",
    "\n",
    "errors_std = np.std(errors)\n",
    "errors_mean = np.mean(errors)\n",
    "(CI_low,CI_high) =stats.ttest_1samp(errors,popmean=0).confidence_interval()\n",
    "print(f'Average number of errors: {round(errors_mean,3)} | Confidence-interval: [{round(CI_low,3)} , {round(CI_high,3)}] |')\n",
    "\n",
    "1.96**2*0.5*(1-0.5)/0.1**2"
   ]
  }
 ],
 "metadata": {
  "kernelspec": {
   "display_name": "base",
   "language": "python",
   "name": "python3"
  },
  "language_info": {
   "codemirror_mode": {
    "name": "ipython",
    "version": 3
   },
   "file_extension": ".py",
   "mimetype": "text/x-python",
   "name": "python",
   "nbconvert_exporter": "python",
   "pygments_lexer": "ipython3",
   "version": "3.11.9"
  }
 },
 "nbformat": 4,
 "nbformat_minor": 2
}
